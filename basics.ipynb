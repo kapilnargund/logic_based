{
 "cells": [
  {
   "cell_type": "code",
   "execution_count": null,
   "id": "connected-catch",
   "metadata": {},
   "outputs": [],
   "source": [
    "import pandas as pd\n",
    "import numpy as np"
   ]
  },
  {
   "cell_type": "code",
   "execution_count": null,
   "id": "stainless-confidentiality",
   "metadata": {},
   "outputs": [],
   "source": [
    "#global keyword\n",
    "\n",
    "# x = \"awesome\"\n",
    "\n",
    "def myfunc():\n",
    "    global x\n",
    "    x = \"awesome\"\n",
    "    print(\"Python is \"+x)\n",
    "    \n",
    "myfunc()\n",
    "\n",
    "def nextfunc():\n",
    "    print(\"R is also \"+x) # x declared inside myfunc can be used here as well due to global keyword.\n",
    "    \n",
    "nextfunc()"
   ]
  },
  {
   "cell_type": "code",
   "execution_count": null,
   "id": "three-louisiana",
   "metadata": {},
   "outputs": [],
   "source": [
    "# looping through range datatype\n",
    "\n",
    "x = range(6)\n",
    "for i in x:\n",
    "    print(i)"
   ]
  },
  {
   "cell_type": "code",
   "execution_count": null,
   "id": "certified-review",
   "metadata": {},
   "outputs": [],
   "source": [
    "# string datatype, strings in Python are arrays of bytes representing unicode characters\n",
    "\n",
    "a = \"Hello, World!\"\n",
    "print(a[0:5])\n",
    "print(a[4:8])\n"
   ]
  },
  {
   "cell_type": "markdown",
   "id": "responsible-visit",
   "metadata": {},
   "source": [
    "# strings in python\n",
    "# https://www.w3schools.com/python/python_ref_string.asp"
   ]
  },
  {
   "cell_type": "code",
   "execution_count": null,
   "id": "quarterly-beverage",
   "metadata": {},
   "outputs": [],
   "source": [
    "# replace()\n",
    "a = \"             Hello, World!             \"\n",
    "print(a.replace(\" \", \"\"))   # the white spaces before and after hello world can be removed using strip() but to remove space\n",
    "                            # before and after the words we can use this trick by using replace()\n",
    "\n",
    "# count()\n",
    "print(a.count(\" \")) # counting number of white spaces\n",
    "\n",
    "# endswith()\n",
    "txt = \"Hello, welcome to my world\"\n",
    "x = txt.endswith(\"world\")\n",
    "print(x)\n",
    "\n",
    "# translate\n",
    "txt = \"Hello Sam!\";\n",
    "mytable = txt.maketrans(\"S\", \"B\");\n",
    "print(txt.translate(mytable));"
   ]
  },
  {
   "cell_type": "markdown",
   "id": "forward-wales",
   "metadata": {},
   "source": [
    "# escape character in python"
   ]
  },
  {
   "cell_type": "code",
   "execution_count": null,
   "id": "lonely-teaching",
   "metadata": {},
   "outputs": [],
   "source": [
    "# if we wish to print double inverted commas etc, for more check https://www.w3schools.com/python/python_strings_escape.asp\n",
    "\n",
    "txt = \"We are the so-called \\\"Vikings\\\" from the north.\"\n",
    "print(txt)"
   ]
  },
  {
   "cell_type": "code",
   "execution_count": null,
   "id": "developing-vancouver",
   "metadata": {},
   "outputs": [],
   "source": []
  },
  {
   "cell_type": "markdown",
   "id": "acting-retrieval",
   "metadata": {},
   "source": [
    "# Lists"
   ]
  },
  {
   "cell_type": "code",
   "execution_count": null,
   "id": "removed-skill",
   "metadata": {},
   "outputs": [],
   "source": [
    "thislist = [\"apple\", \"banana\", \"cherry\"]\n",
    "tropical = [\"mango\", \"pineapple\", \"papaya\"]\n",
    "thislist.append(tropical)\n",
    "print(thislist)"
   ]
  },
  {
   "cell_type": "code",
   "execution_count": null,
   "id": "center-momentum",
   "metadata": {},
   "outputs": [],
   "source": [
    "# extend keyword\n",
    "\n",
    "thislist = [\"apple\", \"banana\", \"cherry\"]\n",
    "tropical = [\"mango\", \"pineapple\", \"papaya\"]\n",
    "thislist.extend(tropical)\n",
    "print(thislist)"
   ]
  },
  {
   "cell_type": "code",
   "execution_count": null,
   "id": "aerial-marina",
   "metadata": {},
   "outputs": [],
   "source": [
    "# adding dictionary to the list\n",
    "\n",
    "thislist = [\"apple\", \"banana\", \"cherry\"]\n",
    "thistuple = {\"kiwi\" : \"potato\", \"orange\" : \"tomato\"}\n",
    "\n",
    "print(type(thistuple))\n",
    "thislist.extend(thistuple)\n",
    "print(thislist)   # only key of dict is added in the list"
   ]
  },
  {
   "cell_type": "code",
   "execution_count": null,
   "id": "incoming-isaac",
   "metadata": {},
   "outputs": [],
   "source": [
    "# List Comprehension\n",
    "# Syntax\n",
    "# newlist = [expression for item in iterable if condition == True]"
   ]
  },
  {
   "cell_type": "code",
   "execution_count": null,
   "id": "lonely-senegal",
   "metadata": {},
   "outputs": [],
   "source": [
    "# without list comprehension\n",
    "\n",
    "fruits = [\"apple\", \"banana\", \"cherry\", \"kiwi\", \"mango\"]\n",
    "newlist = []\n",
    "\n",
    "for x in fruits:\n",
    "  if \"a\" in x:\n",
    "    newlist.append(x)\n",
    "\n",
    "print(newlist)"
   ]
  },
  {
   "cell_type": "code",
   "execution_count": null,
   "id": "twenty-details",
   "metadata": {},
   "outputs": [],
   "source": [
    "# using list comprehension\n",
    "\n",
    "fruits = [\"apple\", \"banana\", \"cherry\", \"kiwi\", \"mango\"]\n",
    "\n",
    "newlist = [x for x in fruits if \"a\" in x]\n",
    "\n",
    "print(newlist)"
   ]
  },
  {
   "cell_type": "markdown",
   "id": "judicial-harvey",
   "metadata": {},
   "source": [
    "# Dictionary"
   ]
  },
  {
   "cell_type": "code",
   "execution_count": null,
   "id": "frank-schema",
   "metadata": {},
   "outputs": [],
   "source": [
    "thisdict = {\n",
    "    \"name\":\"Kiran\",\n",
    "    \"age\":25\n",
    "}\n",
    "\n",
    "thisdict.values()"
   ]
  },
  {
   "cell_type": "code",
   "execution_count": null,
   "id": "nasty-boost",
   "metadata": {},
   "outputs": [],
   "source": [
    "# nested dict\n",
    "\n",
    "myfamily = {\n",
    "  \"child1\" : {\n",
    "    \"name\" : \"Emil\",\n",
    "    \"year\" : 2004\n",
    "  },\n",
    "  \"child2\" : {\n",
    "    \"name\" : \"Tobias\",\n",
    "    \"year\" : 2007\n",
    "  },\n",
    "  \"child3\" : {\n",
    "    \"name\" : \"Linus\",\n",
    "    \"year\" : 2011\n",
    "  }\n",
    "}\n",
    "\n",
    "\n",
    "for i in myfamily:\n",
    "    print(i)\n",
    "    print(myfamily[i])"
   ]
  },
  {
   "cell_type": "code",
   "execution_count": null,
   "id": "honey-favor",
   "metadata": {},
   "outputs": [],
   "source": [
    "myfamily"
   ]
  },
  {
   "cell_type": "code",
   "execution_count": null,
   "id": "intended-death",
   "metadata": {},
   "outputs": [],
   "source": []
  },
  {
   "cell_type": "code",
   "execution_count": null,
   "id": "fresh-mission",
   "metadata": {},
   "outputs": [],
   "source": []
  },
  {
   "cell_type": "code",
   "execution_count": null,
   "id": "conventional-chamber",
   "metadata": {},
   "outputs": [],
   "source": []
  },
  {
   "cell_type": "code",
   "execution_count": null,
   "id": "published-watson",
   "metadata": {},
   "outputs": [],
   "source": [
    "from openpyxl import Workbook\n",
    "\n",
    "filename = \"hello_world.xlsx\"\n",
    "\n",
    "workbook = Workbook()\n",
    "new_sheet = workbook.create_sheet(\"Sheet2\")\n",
    "\n",
    "sheet1 = workbook.active\n",
    "sheet1.write[\"A1\"] = \"hello\"\n",
    "workbook.save(filename=filename)\n",
    "\n",
    "new_sheet = workbook.active\n",
    "new_sheet.write[\"B1\"] = \"world!\"\n",
    "workbook.save(filename=filename)"
   ]
  },
  {
   "cell_type": "code",
   "execution_count": null,
   "id": "fitting-bikini",
   "metadata": {},
   "outputs": [],
   "source": [
    "import pandas as pd\n",
    "import xlwt\n",
    "import xlsxwriter\n",
    "\n",
    "# Add your data in list, which may contain a dictionary with the name of the      \n",
    "# columns as the key\n",
    "df1 = pd.read_excel(\"sample.xlsx\")\n",
    "\n",
    "\n",
    "\n",
    "# Create a new excel workbook\n",
    "# writer = pd.ExcelWriter('title.xlsx', engine='xlsxwriter')\n",
    "\n",
    "\n",
    "# Write each dataframe to a different worksheet.\n",
    "for i in range(len(df1)):\n",
    "    if (df1.Marks[i] == 58):\n",
    "        df1.to_excel('sample.xlsx', sheet_name='Sheet1', index = False)\n",
    "    else:\n",
    "        df1.to_excel('sample.xlsx', sheet_name='Sheet2', index = False)"
   ]
  },
  {
   "cell_type": "code",
   "execution_count": null,
   "id": "collect-soccer",
   "metadata": {},
   "outputs": [],
   "source": [
    "import xlsxwriter\n",
    "\n",
    "workbook = xlsxwriter.Workbook('example.xlsx')\n",
    "Level1 = workbook.add_worksheet()\n",
    "Level2 = workbook.add_worksheet()\n",
    "NO_EMAIL = workbook.add_worksheet()\n",
    "\n",
    "\n",
    "# Some sample data to run the conditional formatting against.\n",
    "\n",
    "df = pd.read_excel(r'Software Technology_19_01_202101_LEVEL.xlsx')\n",
    "\n",
    "###############################################################################\n",
    "#\n",
    "# Example 1.\n",
    "#\n",
    "# Write the data.\n",
    "for row, row_data in enumerate(data):\n",
    "    worksheet1.write_row(row + 2, 1, row_data)\n",
    "\n",
    "# Write a conditional format over a range.\n",
    "worksheet1.conditional_format('B3:K12', {'type': 'cell',\n",
    "                                         'criteria': '>=',\n",
    "                                         'value': 50})\n",
    "\n",
    "# Write another conditional format over the same range.\n",
    "worksheet1.conditional_format('B3:K12', {'type': 'cell',\n",
    "                                         'criteria': '<',\n",
    "                                         'value': 50})\n",
    "\n",
    "###############################################################################\n",
    "#\n",
    "# Example 2.\n",
    "#\n",
    "caption = ('Values between 30 and 70 are in light red. '\n",
    "           'Values outside that range are in light green.')\n",
    "\n",
    "worksheet2.write('A1', caption)\n",
    "\n",
    "for row, row_data in enumerate(data):\n",
    "    worksheet2.write_row(row + 2, 1, row_data)\n",
    "\n",
    "worksheet2.conditional_format('B3:K12', {'type': 'cell',\n",
    "                                         'criteria': 'between',\n",
    "                                         'minimum': 30,\n",
    "                                         'maximum': 70,\n",
    "                                         'format': format1})\n",
    "\n",
    "worksheet2.conditional_format('B3:K12', {'type': 'cell',\n",
    "                                         'criteria': 'not between',\n",
    "                                         'minimum': 30,\n",
    "                                         'maximum': 70,\n",
    "                                         'format': format2})\n",
    "\n",
    "workbook.close()"
   ]
  },
  {
   "cell_type": "code",
   "execution_count": null,
   "id": "presidential-smart",
   "metadata": {
    "scrolled": true
   },
   "outputs": [],
   "source": [
    "import pandas as pd\n",
    "import xlsxwriter\n",
    "\n",
    "df1 = pd.read_excel(r'Software Technology_19_01_202101_LEVEL.xlsx')\n",
    "df = pd.read_excel(r'0.xlsx')\n",
    "\n",
    "workbook = xlsxwriter.Workbook('example.xlsx')\n",
    "Level1 = workbook.add_worksheet()\n",
    "Level2 = workbook.add_worksheet()\n",
    "NO_EMAIL = workbook.add_worksheet()\n",
    "\n",
    "for i in range(len(df1)):\n",
    "    if df1.Level[i] == Level1:\n",
    "        df['Company'] = df1['Company']\n",
    "        df['Name'] = df1['Name']\n",
    "        df['Mobile'] = df1['Mobile']\n",
    "        df['Email'] = df1['Email']\n",
    "        df['Website'] = df1['Website']\n",
    "        df['City'] = df1['City']\n",
    "        df['Category'] = df1['Category']\n",
    "        df['Updated_Website'] = df1['Updated_Website']\n",
    "        df['Updated_Phone'] = df1['Updated_Phone']\n",
    "        df['Status'] = df1['Status']\n",
    "        df['Level'] = df1['Level']\n",
    "    elif df1.Level[i] == Level2:\n",
    "        df['Company'] = df1['Company']\n",
    "        df['Name'] = df1['Name']\n",
    "        df['Mobile'] = df1['Mobile']\n",
    "        df['Email'] = df1['Email']\n",
    "        df['Website'] = df1['Website']\n",
    "        df['City'] = df1['City']\n",
    "        df['Category'] = df1['Category']\n",
    "        df['Updated_Website'] = df1['Updated_Website']\n",
    "        df['Updated_Phone'] = df1['Updated_Phone']\n",
    "        df['Status'] = df1['Status']\n",
    "        df['Level'] = df1['Level']\n"
   ]
  },
  {
   "cell_type": "code",
   "execution_count": null,
   "id": "latin-walker",
   "metadata": {},
   "outputs": [],
   "source": [
    "from pandas import ExcelWriter\n",
    "\n",
    "df = pd.read_excel(r'Software Technology_19_01_202101_LEVEL.xlsx')\n",
    "df1 = df[df['Level'].str.contains(\"Level1\",na=False, case=False)]\n",
    "# df1.to_excel(r'example.xlsx', 'Level1')\n",
    "df2 = df[df['Level'].str.contains(\"Level2\",na=False, case=False)]\n",
    "# df2.to_excel(r'example.xlsx', 'Level2')\n",
    "df3 = df[df['Level'].str.contains(\"NO EMAIL\",na=False, case=False)]\n",
    "\n",
    "\n",
    "with ExcelWriter(r'example.xlsx') as writer:\n",
    "    for i,dfn in enumerate([df1,df2,df3]):\n",
    "        dfn.to_excel(writer, 'Level%s'%str(i+1), index = False)\n",
    "    writer.save()"
   ]
  },
  {
   "cell_type": "code",
   "execution_count": null,
   "id": "administrative-matrix",
   "metadata": {},
   "outputs": [],
   "source": []
  },
  {
   "cell_type": "code",
   "execution_count": null,
   "id": "comfortable-wayne",
   "metadata": {
    "scrolled": true
   },
   "outputs": [],
   "source": [
    "import pandas as pd\n",
    "\n",
    "# concating 2 df's\n",
    "\n",
    "l1 = ['kapil',2,34]\n",
    "l2 = ['kiran',5,39]\n",
    "df = pd.DataFrame(data = (l1,l2),columns = ['name','roll','marks'])\n",
    "\n",
    "k1 = ['manish',8,54]\n",
    "k2 = ['nilesh',12,62]\n",
    "df1 = pd.DataFrame(data = (k1,k2),columns = ['name','roll','marks'])\n",
    "\n",
    "df2 = pd.concat([df,df1], ignore_index = True)\n",
    "display(df2)\n",
    "\n",
    "df_sort = df2.sort_values(by = 'marks', ascending = False)\n",
    "display(df_sort)"
   ]
  },
  {
   "cell_type": "code",
   "execution_count": null,
   "id": "encouraging-stocks",
   "metadata": {},
   "outputs": [],
   "source": [
    "df2"
   ]
  },
  {
   "cell_type": "code",
   "execution_count": null,
   "id": "adjacent-warner",
   "metadata": {},
   "outputs": [],
   "source": [
    "maxValueIndex = df2['marks'].idxmax()\n",
    "df2.iloc[maxValueIndex:,:]"
   ]
  },
  {
   "cell_type": "code",
   "execution_count": null,
   "id": "periodic-triumph",
   "metadata": {},
   "outputs": [],
   "source": []
  },
  {
   "cell_type": "code",
   "execution_count": null,
   "id": "exterior-southwest",
   "metadata": {},
   "outputs": [],
   "source": []
  },
  {
   "cell_type": "code",
   "execution_count": null,
   "id": "friendly-annex",
   "metadata": {},
   "outputs": [],
   "source": []
  },
  {
   "cell_type": "code",
   "execution_count": null,
   "id": "bacterial-defeat",
   "metadata": {},
   "outputs": [],
   "source": [
    "df_concat = df2"
   ]
  },
  {
   "cell_type": "code",
   "execution_count": null,
   "id": "interesting-metropolitan",
   "metadata": {},
   "outputs": [],
   "source": [
    "# selecting according to desired condition\n",
    "\n",
    "df_concat.loc[(df_concat.name == 'manish') & (df_concat.marks > 50)]"
   ]
  },
  {
   "cell_type": "code",
   "execution_count": null,
   "id": "normal-grade",
   "metadata": {},
   "outputs": [],
   "source": [
    "# selecting range of rows\n",
    "df_concat.loc[1:2]"
   ]
  },
  {
   "cell_type": "code",
   "execution_count": null,
   "id": "enabling-series",
   "metadata": {},
   "outputs": [],
   "source": [
    "# updating using loc\n",
    "df_concat.loc[(df_concat.name == 'manish'), ['marks']] = 56\n",
    "\n",
    "df_concat"
   ]
  },
  {
   "cell_type": "code",
   "execution_count": null,
   "id": "monthly-interest",
   "metadata": {
    "scrolled": true
   },
   "outputs": [],
   "source": [
    "# difference between loc and iloc\n",
    "df_concat.loc[1:2]\n",
    "# df_concat.iloc[1:2]"
   ]
  },
  {
   "cell_type": "code",
   "execution_count": null,
   "id": "documented-plenty",
   "metadata": {},
   "outputs": [],
   "source": []
  },
  {
   "cell_type": "code",
   "execution_count": null,
   "id": "institutional-apparel",
   "metadata": {},
   "outputs": [],
   "source": []
  },
  {
   "cell_type": "markdown",
   "id": "caring-lindsay",
   "metadata": {},
   "source": [
    "# LAMBDA 5/7/2021"
   ]
  },
  {
   "cell_type": "code",
   "execution_count": null,
   "id": "valid-armstrong",
   "metadata": {},
   "outputs": [],
   "source": [
    "# The power of lambda is better shown when you use them as an anonymous function inside another function. Say you have \n",
    "# a function definition that takes one argument, and that argument will be multiplied with an unknown number:\n",
    "# Use that function definition to make a function that always doubles the number you send in:\n",
    "\n",
    "def myfunc(n):\n",
    "  return lambda a : a * n\n",
    "\n",
    "mydoubler = myfunc(2)\n",
    "\n",
    "print(mydoubler(55))"
   ]
  },
  {
   "cell_type": "code",
   "execution_count": null,
   "id": "final-ending",
   "metadata": {},
   "outputs": [],
   "source": [
    "# Or, use the same function definition to make both functions, in the same program:\n",
    "\n",
    "def myfunc(n):\n",
    "  return lambda a : a * n\n",
    "\n",
    "mydoubler = myfunc(2)\n",
    "mytripler = myfunc(3)\n",
    "\n",
    "print(mydoubler(11))\n",
    "print(mytripler(11))"
   ]
  },
  {
   "cell_type": "markdown",
   "id": "valid-feeding",
   "metadata": {},
   "source": [
    "# Classes and Objects"
   ]
  },
  {
   "cell_type": "code",
   "execution_count": null,
   "id": "current-surgeon",
   "metadata": {},
   "outputs": [],
   "source": [
    "# The built-in __init__() Function\n",
    "# All classes have a function called __init__(), which is always executed when the class is being initiated.\n",
    "# Use the __init__() function to assign values to object properties, or other operations that are necessary to \n",
    "# do when the object is being created:\n",
    "# The __init__() function is called automatically every time the class is being used to create a new object.\n",
    "\n",
    "class Person:\n",
    "    def __init__(self, name, age):\n",
    "        self.name = name\n",
    "        self.age = age\n",
    "\n",
    "p1 = Person(\"John\", 36)\n",
    "\n",
    "print(p1.name)\n",
    "print(p1.age)"
   ]
  },
  {
   "cell_type": "code",
   "execution_count": null,
   "id": "temporal-liberia",
   "metadata": {},
   "outputs": [],
   "source": [
    "class Person:\n",
    "    def __init__(self, name):\n",
    "        print(\"hello \"+name+\" from init\")\n",
    "        \n",
    "p1 = Person(\"Abbas\")"
   ]
  },
  {
   "cell_type": "code",
   "execution_count": null,
   "id": "available-wound",
   "metadata": {},
   "outputs": [],
   "source": [
    "class Person:\n",
    "    def __init__(self, name, age):\n",
    "        self.name = name\n",
    "        self.age = age\n",
    "        \n",
    "    def myfunc(self, name):\n",
    "        print(\"Hello\", name)\n",
    "        \n",
    "p1 = Person(\"Johny\", \"25\")\n",
    "print(p1.name)\n",
    "p1.myfunc(\"mac\")"
   ]
  },
  {
   "cell_type": "code",
   "execution_count": null,
   "id": "twenty-withdrawal",
   "metadata": {},
   "outputs": [],
   "source": [
    "# super() keyword\n",
    "\n",
    "class Person:\n",
    "  def __init__(self, fname, lname):\n",
    "    self.firstname = fname\n",
    "    self.lastname = lname\n",
    "\n",
    "  def printname(self):\n",
    "    print(self.firstname, self.lastname)\n",
    "\n",
    "class Student(Person):\n",
    "  def __init__(self, fname, lname, year):\n",
    "    super().__init__(fname, lname)\n",
    "    self.graduationyear = year\n",
    "\n",
    "  def welcome(self):\n",
    "    print(\"Welcome\", self.firstname, self.lastname, \"to the class of\", self.graduationyear)\n",
    "\n",
    "x = Student(\"Mike\", \"Olsen\", 2019)\n",
    "x.welcome()\n",
    "x.printname()"
   ]
  },
  {
   "cell_type": "code",
   "execution_count": null,
   "id": "shared-undergraduate",
   "metadata": {},
   "outputs": [],
   "source": [
    "# iter() and next()\n",
    "\n",
    "mytuple = (\"apple\", \"banana\", \"cherry\")\n",
    "myit = iter(mytuple)\n",
    "\n",
    "print(type(myit))\n",
    "print(type(next(myit)))\n",
    "print(next(myit))\n",
    "print(next(myit))"
   ]
  },
  {
   "cell_type": "code",
   "execution_count": null,
   "id": "martial-miami",
   "metadata": {},
   "outputs": [],
   "source": [
    "import logging as lg\n",
    "\n",
    "lg.basicConfig(filename = 'test.log', level = lg.INFO, format = '%(asctime)s %(message)s')\n",
    "lg.info(\"This is my first log\")\n",
    "lg.warning(\"This is my first warning\")\n",
    "lg.error(\"This is msg for error\")"
   ]
  },
  {
   "cell_type": "code",
   "execution_count": null,
   "id": "valid-wallace",
   "metadata": {},
   "outputs": [],
   "source": [
    "def test(a,b):\n",
    "    try:\n",
    "        div = a/b\n",
    "    except Exception as e:\n",
    "        print(\"there was an error\")\n",
    "        lg.error(\"error has occured\")\n",
    "        lg.exception(str(e))\n",
    "        \n",
    "test(5,0)"
   ]
  },
  {
   "cell_type": "code",
   "execution_count": null,
   "id": "coordinate-lending",
   "metadata": {},
   "outputs": [],
   "source": []
  },
  {
   "cell_type": "code",
   "execution_count": null,
   "id": "465f1f7f",
   "metadata": {
    "scrolled": true
   },
   "outputs": [],
   "source": [
    "%%time\n",
    "\n",
    "#!/bin/python\n",
    "\n",
    "import math\n",
    "import os\n",
    "import random\n",
    "import re\n",
    "import sys\n",
    "\n",
    "\n",
    "\n",
    "if __name__ == '__main__':\n",
    "    for n in range(1,101):\n",
    "        print(n)\n",
    "#         n = int(raw_input().strip())\n",
    "\n",
    "        if n % 2 == 0:\n",
    "            if n in range(2,6):\n",
    "                print('Not Weird')\n",
    "\n",
    "            if n in range(6,21):\n",
    "                print('Weird')\n",
    "\n",
    "            if n > 20:\n",
    "                print('Not Weird')\n",
    "\n",
    "        if n % 2 != 0:\n",
    "            print('Weird')\n",
    "        \n"
   ]
  },
  {
   "cell_type": "code",
   "execution_count": null,
   "id": "cc29d05c",
   "metadata": {},
   "outputs": [],
   "source": [
    "%%time\n",
    "\n",
    "#!/bin/python\n",
    "\n",
    "import math\n",
    "import os\n",
    "import random\n",
    "import re\n",
    "import sys\n",
    "\n",
    "\n",
    "\n",
    "if __name__ == '__main__':\n",
    "    for n in range(1,101):\n",
    "        print(n)\n",
    "#         n = int(raw_input().strip())\n",
    "\n",
    "        if n % 2 == 0:\n",
    "            if n in range(2,6):\n",
    "                print('Not Weird')\n",
    "\n",
    "            elif n in range(6,21):\n",
    "                print('Weird')\n",
    "\n",
    "            elif n > 20:\n",
    "                print('Not Weird')\n",
    "\n",
    "#         elif n % 2 != 0:\n",
    "        else:\n",
    "            print('Weird')\n",
    "        \n"
   ]
  },
  {
   "cell_type": "code",
   "execution_count": null,
   "id": "1ec2bfc6",
   "metadata": {},
   "outputs": [],
   "source": []
  },
  {
   "cell_type": "code",
   "execution_count": null,
   "id": "abf4f73b",
   "metadata": {},
   "outputs": [],
   "source": []
  },
  {
   "cell_type": "markdown",
   "id": "6ade3fda",
   "metadata": {},
   "source": [
    "An extra day is added to the calendar almost every four years as February 29, and the day is called a leap day. It corrects the calendar for the fact that our planet takes approximately 365.25 days to orbit the sun. A leap year contains a leap day.\n",
    "\n",
    "In the Gregorian calendar, three conditions are used to identify leap years:\n",
    "\n",
    "The year can be evenly divided by 4, is a leap year, unless:\n",
    "The year can be evenly divided by 100, it is NOT a leap year, unless:\n",
    "The year is also evenly divisible by 400. Then it is a leap year.\n",
    "This means that in the Gregorian calendar, the years 2000 and 2400 are leap years, while 1800, 1900, 2100, 2200, 2300 and 2500 are NOT leap years. Source\n",
    "\n",
    "Task\n",
    "\n",
    "Given a year, determine whether it is a leap year. If it is a leap year, return the Boolean True, otherwise return False.\n",
    "\n",
    "Note that the code stub provided reads from STDIN and passes arguments to the is_leap function. It is only necessary to complete the is_leap function."
   ]
  },
  {
   "cell_type": "code",
   "execution_count": null,
   "id": "cf694ea7",
   "metadata": {},
   "outputs": [],
   "source": [
    "def is_leap(year):\n",
    "    leap = False\n",
    "    # Write your logic here\n",
    "    if year % 4 == 0:\n",
    "        if year % 100 == 0:\n",
    "            if year % 400 == 0:\n",
    "                leap = True        \n",
    "        else:\n",
    "            leap = True\n",
    "    return leap\n",
    "year = int(input())\n",
    "print(is_leap(year))"
   ]
  },
  {
   "cell_type": "code",
   "execution_count": null,
   "id": "f8bf74ae",
   "metadata": {},
   "outputs": [],
   "source": [
    "for i in range(1,int(input())): #More than 2 lines will result in 0 score. Do not leave a blank line also\n",
    "    print(str(i)*i)"
   ]
  },
  {
   "cell_type": "code",
   "execution_count": null,
   "id": "673c897c",
   "metadata": {},
   "outputs": [],
   "source": []
  },
  {
   "cell_type": "code",
   "execution_count": null,
   "id": "e1c494d9",
   "metadata": {},
   "outputs": [],
   "source": []
  },
  {
   "cell_type": "markdown",
   "id": "ab6b50be",
   "metadata": {},
   "source": [
    "1\n",
    "22\n",
    "333\n",
    "4444\n",
    "55555\n",
    "\n",
    "Can you do it using only arithmetic operations, a single for loop and print statement?\n",
    "\n",
    "Use no more than two lines. The first line (the for statement) is already written for you. You have to complete the print statement.\n",
    "\n",
    "Note: Using anything related to strings will give a score of ."
   ]
  },
  {
   "cell_type": "code",
   "execution_count": 14,
   "id": "437172c8",
   "metadata": {},
   "outputs": [
    {
     "name": "stdout",
     "output_type": "stream",
     "text": [
      "5\n",
      "1\n",
      "22\n",
      "333\n",
      "4444\n"
     ]
    }
   ],
   "source": [
    "for i in range(1,int(input())):\n",
    "    print([0, 1, 22, 333, 4444, 55555, 666666, 7777777, 88888888, 999999999][i]) # funny solution\n",
    "#     print(10**i//9*i) # actual solution\n",
    "#     print(str(i)*i) # illegal solution"
   ]
  },
  {
   "cell_type": "code",
   "execution_count": null,
   "id": "fd5c4b4e",
   "metadata": {},
   "outputs": [],
   "source": []
  },
  {
   "cell_type": "code",
   "execution_count": null,
   "id": "95028180",
   "metadata": {},
   "outputs": [],
   "source": []
  },
  {
   "cell_type": "markdown",
   "id": "a9ca1192",
   "metadata": {},
   "source": [
    "The students of District College have subscriptions to English and French newspapers. Some students have subscribed only to English, some have subscribed to only French and some have subscribed to both newspapers.\n",
    "\n",
    "You are given two sets of student roll numbers. One set has subscribed to the English newspaper, \n",
    "and the other set is subscribed to the French newspaper. The same student could be in both sets. \n",
    "Your task is to find the total number of students who have subscribed to at least one newspaper.\n",
    "\n",
    "9\n",
    "1 2 3 4 5 6 7 8 9\n",
    "9\n",
    "10 1 2 3 11 21 55 6 8"
   ]
  },
  {
   "cell_type": "code",
   "execution_count": null,
   "id": "ced94ea0",
   "metadata": {},
   "outputs": [],
   "source": [
    "# Enter your code here. Read input from STDIN. Print output to STDOUT\n",
    "e = input()\n",
    "english = input()\n",
    "f = input()\n",
    "french = input()\n",
    "print(len(set([int(i) for i in english.split(' ')]).union(set([int(i) for i in french.split(' ')]))))"
   ]
  },
  {
   "cell_type": "code",
   "execution_count": null,
   "id": "d233d16c",
   "metadata": {},
   "outputs": [],
   "source": []
  },
  {
   "cell_type": "markdown",
   "id": "12a8ef39",
   "metadata": {},
   "source": [
    "Task\n",
    "The students of District College have subscriptions to English and French newspapers. Some students have subscribed only to English, some have subscribed to only French and some have subscribed to both newspapers.\n",
    "\n",
    "You are given two sets of student roll numbers. One set has subscribed to the English newspaper, and the other set is subscribed to the French newspaper. The same student could be in both sets. Your task is to find the total number of students who have subscribed to at least one newspaper."
   ]
  },
  {
   "cell_type": "code",
   "execution_count": null,
   "id": "06626474",
   "metadata": {},
   "outputs": [],
   "source": [
    "# Enter your code here. Read input from STDIN. Print output to STDOUT\n",
    "english = input()\n",
    "french = input()\n",
    "print(len(set([int(i) for i in english.split(' ')]).union(set([int(i) for i in french.split(' ')]))))"
   ]
  },
  {
   "cell_type": "code",
   "execution_count": null,
   "id": "f23b05f1",
   "metadata": {},
   "outputs": [],
   "source": []
  },
  {
   "cell_type": "code",
   "execution_count": 19,
   "id": "bc42797f",
   "metadata": {},
   "outputs": [
    {
     "name": "stdout",
     "output_type": "stream",
     "text": [
      "first if\n"
     ]
    }
   ],
   "source": [
    "for i in range(11):\n",
    "    if i == 5:\n",
    "        print('first if')\n",
    "    elif i == 5:\n",
    "        print('first if')"
   ]
  },
  {
   "cell_type": "code",
   "execution_count": null,
   "id": "b2218cff",
   "metadata": {},
   "outputs": [],
   "source": []
  },
  {
   "cell_type": "code",
   "execution_count": 29,
   "id": "8043ac71",
   "metadata": {},
   "outputs": [
    {
     "data": {
      "text/plain": [
       "[5, 6, 'a', 'b', 9]"
      ]
     },
     "execution_count": 29,
     "metadata": {},
     "output_type": "execute_result"
    }
   ],
   "source": [
    "[5]+[6]+['a']+['b',9]"
   ]
  },
  {
   "cell_type": "code",
   "execution_count": 33,
   "id": "e93d6053",
   "metadata": {},
   "outputs": [],
   "source": [
    "lst1 = [11, 12, 13, 14, 15, 16, 17]\n",
    "lst2 = lst1\n",
    "lst2[-1] = 18"
   ]
  },
  {
   "cell_type": "code",
   "execution_count": 35,
   "id": "a48c3530",
   "metadata": {},
   "outputs": [
    {
     "data": {
      "text/plain": [
       "[11, 12, 13, 14, 15, 16, 18]"
      ]
     },
     "execution_count": 35,
     "metadata": {},
     "output_type": "execute_result"
    }
   ],
   "source": [
    "lst1"
   ]
  },
  {
   "cell_type": "code",
   "execution_count": 39,
   "id": "97429801",
   "metadata": {},
   "outputs": [
    {
     "data": {
      "text/plain": [
       "[1, 2, 3]"
      ]
     },
     "execution_count": 39,
     "metadata": {},
     "output_type": "execute_result"
    }
   ],
   "source": [
    "lst1 = [1,2,3]\n",
    "lst2 = lst1[:]\n",
    "lst2\n",
    "lst2.remove(2)\n",
    "lst1"
   ]
  },
  {
   "cell_type": "code",
   "execution_count": null,
   "id": "e663be00",
   "metadata": {},
   "outputs": [],
   "source": []
  },
  {
   "cell_type": "code",
   "execution_count": null,
   "id": "31db6a79",
   "metadata": {},
   "outputs": [],
   "source": []
  },
  {
   "cell_type": "code",
   "execution_count": null,
   "id": "0359baeb",
   "metadata": {},
   "outputs": [],
   "source": []
  },
  {
   "cell_type": "code",
   "execution_count": 42,
   "id": "19058541",
   "metadata": {},
   "outputs": [
    {
     "name": "stderr",
     "output_type": "stream",
     "text": [
      "C:\\Users\\PC\\AppData\\Local\\Temp\\ipykernel_4800\\3653696822.py:10: DeprecationWarning: executable_path has been deprecated, please pass in a Service object\n",
      "  driver = webdriver.Chrome(executable_path=\"D:\\chromedriver\\chromedriver.exe\", options=chrome_options)\n"
     ]
    },
    {
     "ename": "WebDriverException",
     "evalue": "Message: 'chromedriver.exe' executable needs to be in PATH. Please see https://chromedriver.chromium.org/home\n",
     "output_type": "error",
     "traceback": [
      "\u001b[1;31m---------------------------------------------------------------------------\u001b[0m",
      "\u001b[1;31mFileNotFoundError\u001b[0m                         Traceback (most recent call last)",
      "File \u001b[1;32mc:\\users\\pc\\appdata\\local\\programs\\python\\python38\\lib\\site-packages\\selenium\\webdriver\\common\\service.py:71\u001b[0m, in \u001b[0;36mService.start\u001b[1;34m(self)\u001b[0m\n\u001b[0;32m     70\u001b[0m     cmd\u001b[38;5;241m.\u001b[39mextend(\u001b[38;5;28mself\u001b[39m\u001b[38;5;241m.\u001b[39mcommand_line_args())\n\u001b[1;32m---> 71\u001b[0m     \u001b[38;5;28mself\u001b[39m\u001b[38;5;241m.\u001b[39mprocess \u001b[38;5;241m=\u001b[39m \u001b[43msubprocess\u001b[49m\u001b[38;5;241;43m.\u001b[39;49m\u001b[43mPopen\u001b[49m\u001b[43m(\u001b[49m\u001b[43mcmd\u001b[49m\u001b[43m,\u001b[49m\u001b[43m \u001b[49m\u001b[43menv\u001b[49m\u001b[38;5;241;43m=\u001b[39;49m\u001b[38;5;28;43mself\u001b[39;49m\u001b[38;5;241;43m.\u001b[39;49m\u001b[43menv\u001b[49m\u001b[43m,\u001b[49m\n\u001b[0;32m     72\u001b[0m \u001b[43m                                    \u001b[49m\u001b[43mclose_fds\u001b[49m\u001b[38;5;241;43m=\u001b[39;49m\u001b[43msystem\u001b[49m\u001b[43m(\u001b[49m\u001b[43m)\u001b[49m\u001b[43m \u001b[49m\u001b[38;5;241;43m!=\u001b[39;49m\u001b[43m \u001b[49m\u001b[38;5;124;43m'\u001b[39;49m\u001b[38;5;124;43mWindows\u001b[39;49m\u001b[38;5;124;43m'\u001b[39;49m\u001b[43m,\u001b[49m\n\u001b[0;32m     73\u001b[0m \u001b[43m                                    \u001b[49m\u001b[43mstdout\u001b[49m\u001b[38;5;241;43m=\u001b[39;49m\u001b[38;5;28;43mself\u001b[39;49m\u001b[38;5;241;43m.\u001b[39;49m\u001b[43mlog_file\u001b[49m\u001b[43m,\u001b[49m\n\u001b[0;32m     74\u001b[0m \u001b[43m                                    \u001b[49m\u001b[43mstderr\u001b[49m\u001b[38;5;241;43m=\u001b[39;49m\u001b[38;5;28;43mself\u001b[39;49m\u001b[38;5;241;43m.\u001b[39;49m\u001b[43mlog_file\u001b[49m\u001b[43m,\u001b[49m\n\u001b[0;32m     75\u001b[0m \u001b[43m                                    \u001b[49m\u001b[43mstdin\u001b[49m\u001b[38;5;241;43m=\u001b[39;49m\u001b[43mPIPE\u001b[49m\u001b[43m,\u001b[49m\n\u001b[0;32m     76\u001b[0m \u001b[43m                                    \u001b[49m\u001b[43mcreationflags\u001b[49m\u001b[38;5;241;43m=\u001b[39;49m\u001b[38;5;28;43mself\u001b[39;49m\u001b[38;5;241;43m.\u001b[39;49m\u001b[43mcreationflags\u001b[49m\u001b[43m)\u001b[49m\n\u001b[0;32m     77\u001b[0m \u001b[38;5;28;01mexcept\u001b[39;00m \u001b[38;5;167;01mTypeError\u001b[39;00m:\n",
      "File \u001b[1;32mc:\\users\\pc\\appdata\\local\\programs\\python\\python38\\lib\\subprocess.py:858\u001b[0m, in \u001b[0;36mPopen.__init__\u001b[1;34m(self, args, bufsize, executable, stdin, stdout, stderr, preexec_fn, close_fds, shell, cwd, env, universal_newlines, startupinfo, creationflags, restore_signals, start_new_session, pass_fds, encoding, errors, text)\u001b[0m\n\u001b[0;32m    855\u001b[0m             \u001b[38;5;28mself\u001b[39m\u001b[38;5;241m.\u001b[39mstderr \u001b[38;5;241m=\u001b[39m io\u001b[38;5;241m.\u001b[39mTextIOWrapper(\u001b[38;5;28mself\u001b[39m\u001b[38;5;241m.\u001b[39mstderr,\n\u001b[0;32m    856\u001b[0m                     encoding\u001b[38;5;241m=\u001b[39mencoding, errors\u001b[38;5;241m=\u001b[39merrors)\n\u001b[1;32m--> 858\u001b[0m     \u001b[38;5;28;43mself\u001b[39;49m\u001b[38;5;241;43m.\u001b[39;49m\u001b[43m_execute_child\u001b[49m\u001b[43m(\u001b[49m\u001b[43margs\u001b[49m\u001b[43m,\u001b[49m\u001b[43m \u001b[49m\u001b[43mexecutable\u001b[49m\u001b[43m,\u001b[49m\u001b[43m \u001b[49m\u001b[43mpreexec_fn\u001b[49m\u001b[43m,\u001b[49m\u001b[43m \u001b[49m\u001b[43mclose_fds\u001b[49m\u001b[43m,\u001b[49m\n\u001b[0;32m    859\u001b[0m \u001b[43m                        \u001b[49m\u001b[43mpass_fds\u001b[49m\u001b[43m,\u001b[49m\u001b[43m \u001b[49m\u001b[43mcwd\u001b[49m\u001b[43m,\u001b[49m\u001b[43m \u001b[49m\u001b[43menv\u001b[49m\u001b[43m,\u001b[49m\n\u001b[0;32m    860\u001b[0m \u001b[43m                        \u001b[49m\u001b[43mstartupinfo\u001b[49m\u001b[43m,\u001b[49m\u001b[43m \u001b[49m\u001b[43mcreationflags\u001b[49m\u001b[43m,\u001b[49m\u001b[43m \u001b[49m\u001b[43mshell\u001b[49m\u001b[43m,\u001b[49m\n\u001b[0;32m    861\u001b[0m \u001b[43m                        \u001b[49m\u001b[43mp2cread\u001b[49m\u001b[43m,\u001b[49m\u001b[43m \u001b[49m\u001b[43mp2cwrite\u001b[49m\u001b[43m,\u001b[49m\n\u001b[0;32m    862\u001b[0m \u001b[43m                        \u001b[49m\u001b[43mc2pread\u001b[49m\u001b[43m,\u001b[49m\u001b[43m \u001b[49m\u001b[43mc2pwrite\u001b[49m\u001b[43m,\u001b[49m\n\u001b[0;32m    863\u001b[0m \u001b[43m                        \u001b[49m\u001b[43merrread\u001b[49m\u001b[43m,\u001b[49m\u001b[43m \u001b[49m\u001b[43merrwrite\u001b[49m\u001b[43m,\u001b[49m\n\u001b[0;32m    864\u001b[0m \u001b[43m                        \u001b[49m\u001b[43mrestore_signals\u001b[49m\u001b[43m,\u001b[49m\u001b[43m \u001b[49m\u001b[43mstart_new_session\u001b[49m\u001b[43m)\u001b[49m\n\u001b[0;32m    865\u001b[0m \u001b[38;5;28;01mexcept\u001b[39;00m:\n\u001b[0;32m    866\u001b[0m     \u001b[38;5;66;03m# Cleanup if the child failed starting.\u001b[39;00m\n",
      "File \u001b[1;32mc:\\users\\pc\\appdata\\local\\programs\\python\\python38\\lib\\subprocess.py:1311\u001b[0m, in \u001b[0;36mPopen._execute_child\u001b[1;34m(self, args, executable, preexec_fn, close_fds, pass_fds, cwd, env, startupinfo, creationflags, shell, p2cread, p2cwrite, c2pread, c2pwrite, errread, errwrite, unused_restore_signals, unused_start_new_session)\u001b[0m\n\u001b[0;32m   1310\u001b[0m \u001b[38;5;28;01mtry\u001b[39;00m:\n\u001b[1;32m-> 1311\u001b[0m     hp, ht, pid, tid \u001b[38;5;241m=\u001b[39m \u001b[43m_winapi\u001b[49m\u001b[38;5;241;43m.\u001b[39;49m\u001b[43mCreateProcess\u001b[49m\u001b[43m(\u001b[49m\u001b[43mexecutable\u001b[49m\u001b[43m,\u001b[49m\u001b[43m \u001b[49m\u001b[43margs\u001b[49m\u001b[43m,\u001b[49m\n\u001b[0;32m   1312\u001b[0m \u001b[43m                             \u001b[49m\u001b[38;5;66;43;03m# no special security\u001b[39;49;00m\n\u001b[0;32m   1313\u001b[0m \u001b[43m                             \u001b[49m\u001b[38;5;28;43;01mNone\u001b[39;49;00m\u001b[43m,\u001b[49m\u001b[43m \u001b[49m\u001b[38;5;28;43;01mNone\u001b[39;49;00m\u001b[43m,\u001b[49m\n\u001b[0;32m   1314\u001b[0m \u001b[43m                             \u001b[49m\u001b[38;5;28;43mint\u001b[39;49m\u001b[43m(\u001b[49m\u001b[38;5;129;43;01mnot\u001b[39;49;00m\u001b[43m \u001b[49m\u001b[43mclose_fds\u001b[49m\u001b[43m)\u001b[49m\u001b[43m,\u001b[49m\n\u001b[0;32m   1315\u001b[0m \u001b[43m                             \u001b[49m\u001b[43mcreationflags\u001b[49m\u001b[43m,\u001b[49m\n\u001b[0;32m   1316\u001b[0m \u001b[43m                             \u001b[49m\u001b[43menv\u001b[49m\u001b[43m,\u001b[49m\n\u001b[0;32m   1317\u001b[0m \u001b[43m                             \u001b[49m\u001b[43mcwd\u001b[49m\u001b[43m,\u001b[49m\n\u001b[0;32m   1318\u001b[0m \u001b[43m                             \u001b[49m\u001b[43mstartupinfo\u001b[49m\u001b[43m)\u001b[49m\n\u001b[0;32m   1319\u001b[0m \u001b[38;5;28;01mfinally\u001b[39;00m:\n\u001b[0;32m   1320\u001b[0m     \u001b[38;5;66;03m# Child is launched. Close the parent's copy of those pipe\u001b[39;00m\n\u001b[0;32m   1321\u001b[0m     \u001b[38;5;66;03m# handles that only the child should have open.  You need\u001b[39;00m\n\u001b[1;32m   (...)\u001b[0m\n\u001b[0;32m   1324\u001b[0m     \u001b[38;5;66;03m# pipe will not close when the child process exits and the\u001b[39;00m\n\u001b[0;32m   1325\u001b[0m     \u001b[38;5;66;03m# ReadFile will hang.\u001b[39;00m\n",
      "\u001b[1;31mFileNotFoundError\u001b[0m: [WinError 2] The system cannot find the file specified",
      "\nDuring handling of the above exception, another exception occurred:\n",
      "\u001b[1;31mWebDriverException\u001b[0m                        Traceback (most recent call last)",
      "Input \u001b[1;32mIn [42]\u001b[0m, in \u001b[0;36m<cell line: 10>\u001b[1;34m()\u001b[0m\n\u001b[0;32m      8\u001b[0m chrome_options \u001b[38;5;241m=\u001b[39m webdriver\u001b[38;5;241m.\u001b[39mChromeOptions()\n\u001b[0;32m      9\u001b[0m chrome_options\u001b[38;5;241m.\u001b[39madd_experimental_option(\u001b[38;5;124m'\u001b[39m\u001b[38;5;124museAutomationExtension\u001b[39m\u001b[38;5;124m'\u001b[39m, \u001b[38;5;28;01mFalse\u001b[39;00m)\n\u001b[1;32m---> 10\u001b[0m driver \u001b[38;5;241m=\u001b[39m \u001b[43mwebdriver\u001b[49m\u001b[38;5;241;43m.\u001b[39;49m\u001b[43mChrome\u001b[49m\u001b[43m(\u001b[49m\u001b[43mexecutable_path\u001b[49m\u001b[38;5;241;43m=\u001b[39;49m\u001b[38;5;124;43m\"\u001b[39;49m\u001b[38;5;124;43mD:\u001b[39;49m\u001b[38;5;124;43m\\\u001b[39;49m\u001b[38;5;124;43mchromedriver\u001b[39;49m\u001b[38;5;124;43m\\\u001b[39;49m\u001b[38;5;124;43mchromedriver.exe\u001b[39;49m\u001b[38;5;124;43m\"\u001b[39;49m\u001b[43m,\u001b[49m\u001b[43m \u001b[49m\u001b[43moptions\u001b[49m\u001b[38;5;241;43m=\u001b[39;49m\u001b[43mchrome_options\u001b[49m\u001b[43m)\u001b[49m\n\u001b[0;32m     12\u001b[0m \u001b[38;5;66;03m# driver = webdriver.Chrome(executable_path=\"D:\\chromedriver\\chromedriver.exe\")\u001b[39;00m\n\u001b[0;32m     14\u001b[0m driver\u001b[38;5;241m.\u001b[39mget(\u001b[38;5;124m\"\u001b[39m\u001b[38;5;124mhttps://www.careeraddition.com/contact/\u001b[39m\u001b[38;5;124m\"\u001b[39m)\n",
      "File \u001b[1;32mc:\\users\\pc\\appdata\\local\\programs\\python\\python38\\lib\\site-packages\\selenium\\webdriver\\chrome\\webdriver.py:70\u001b[0m, in \u001b[0;36mWebDriver.__init__\u001b[1;34m(self, executable_path, port, options, service_args, desired_capabilities, service_log_path, chrome_options, service, keep_alive)\u001b[0m\n\u001b[0;32m     67\u001b[0m \u001b[38;5;28;01mif\u001b[39;00m \u001b[38;5;129;01mnot\u001b[39;00m service:\n\u001b[0;32m     68\u001b[0m     service \u001b[38;5;241m=\u001b[39m Service(executable_path, port, service_args, service_log_path)\n\u001b[1;32m---> 70\u001b[0m \u001b[38;5;28;43msuper\u001b[39;49m\u001b[43m(\u001b[49m\u001b[43mWebDriver\u001b[49m\u001b[43m,\u001b[49m\u001b[43m \u001b[49m\u001b[38;5;28;43mself\u001b[39;49m\u001b[43m)\u001b[49m\u001b[38;5;241;43m.\u001b[39;49m\u001b[38;5;21;43m__init__\u001b[39;49m\u001b[43m(\u001b[49m\u001b[43mDesiredCapabilities\u001b[49m\u001b[38;5;241;43m.\u001b[39;49m\u001b[43mCHROME\u001b[49m\u001b[43m[\u001b[49m\u001b[38;5;124;43m'\u001b[39;49m\u001b[38;5;124;43mbrowserName\u001b[39;49m\u001b[38;5;124;43m'\u001b[39;49m\u001b[43m]\u001b[49m\u001b[43m,\u001b[49m\u001b[43m \u001b[49m\u001b[38;5;124;43m\"\u001b[39;49m\u001b[38;5;124;43mgoog\u001b[39;49m\u001b[38;5;124;43m\"\u001b[39;49m\u001b[43m,\u001b[49m\n\u001b[0;32m     71\u001b[0m \u001b[43m                                \u001b[49m\u001b[43mport\u001b[49m\u001b[43m,\u001b[49m\u001b[43m \u001b[49m\u001b[43moptions\u001b[49m\u001b[43m,\u001b[49m\n\u001b[0;32m     72\u001b[0m \u001b[43m                                \u001b[49m\u001b[43mservice_args\u001b[49m\u001b[43m,\u001b[49m\u001b[43m \u001b[49m\u001b[43mdesired_capabilities\u001b[49m\u001b[43m,\u001b[49m\n\u001b[0;32m     73\u001b[0m \u001b[43m                                \u001b[49m\u001b[43mservice_log_path\u001b[49m\u001b[43m,\u001b[49m\u001b[43m \u001b[49m\u001b[43mservice\u001b[49m\u001b[43m,\u001b[49m\u001b[43m \u001b[49m\u001b[43mkeep_alive\u001b[49m\u001b[43m)\u001b[49m\n",
      "File \u001b[1;32mc:\\users\\pc\\appdata\\local\\programs\\python\\python38\\lib\\site-packages\\selenium\\webdriver\\chromium\\webdriver.py:89\u001b[0m, in \u001b[0;36mChromiumDriver.__init__\u001b[1;34m(self, browser_name, vendor_prefix, port, options, service_args, desired_capabilities, service_log_path, service, keep_alive)\u001b[0m\n\u001b[0;32m     86\u001b[0m     \u001b[38;5;28;01mraise\u001b[39;00m \u001b[38;5;167;01mAttributeError\u001b[39;00m(\u001b[38;5;124m'\u001b[39m\u001b[38;5;124mservice cannot be None\u001b[39m\u001b[38;5;124m'\u001b[39m)\n\u001b[0;32m     88\u001b[0m \u001b[38;5;28mself\u001b[39m\u001b[38;5;241m.\u001b[39mservice \u001b[38;5;241m=\u001b[39m service\n\u001b[1;32m---> 89\u001b[0m \u001b[38;5;28;43mself\u001b[39;49m\u001b[38;5;241;43m.\u001b[39;49m\u001b[43mservice\u001b[49m\u001b[38;5;241;43m.\u001b[39;49m\u001b[43mstart\u001b[49m\u001b[43m(\u001b[49m\u001b[43m)\u001b[49m\n\u001b[0;32m     91\u001b[0m \u001b[38;5;28;01mtry\u001b[39;00m:\n\u001b[0;32m     92\u001b[0m     RemoteWebDriver\u001b[38;5;241m.\u001b[39m\u001b[38;5;21m__init__\u001b[39m(\n\u001b[0;32m     93\u001b[0m         \u001b[38;5;28mself\u001b[39m,\n\u001b[0;32m     94\u001b[0m         command_executor\u001b[38;5;241m=\u001b[39mChromiumRemoteConnection(\n\u001b[1;32m   (...)\u001b[0m\n\u001b[0;32m     97\u001b[0m             keep_alive\u001b[38;5;241m=\u001b[39mkeep_alive, ignore_proxy\u001b[38;5;241m=\u001b[39m_ignore_proxy),\n\u001b[0;32m     98\u001b[0m         options\u001b[38;5;241m=\u001b[39moptions)\n",
      "File \u001b[1;32mc:\\users\\pc\\appdata\\local\\programs\\python\\python38\\lib\\site-packages\\selenium\\webdriver\\common\\service.py:81\u001b[0m, in \u001b[0;36mService.start\u001b[1;34m(self)\u001b[0m\n\u001b[0;32m     79\u001b[0m \u001b[38;5;28;01mexcept\u001b[39;00m \u001b[38;5;167;01mOSError\u001b[39;00m \u001b[38;5;28;01mas\u001b[39;00m err:\n\u001b[0;32m     80\u001b[0m     \u001b[38;5;28;01mif\u001b[39;00m err\u001b[38;5;241m.\u001b[39merrno \u001b[38;5;241m==\u001b[39m errno\u001b[38;5;241m.\u001b[39mENOENT:\n\u001b[1;32m---> 81\u001b[0m         \u001b[38;5;28;01mraise\u001b[39;00m WebDriverException(\n\u001b[0;32m     82\u001b[0m             \u001b[38;5;124m\"\u001b[39m\u001b[38;5;124m'\u001b[39m\u001b[38;5;132;01m%s\u001b[39;00m\u001b[38;5;124m'\u001b[39m\u001b[38;5;124m executable needs to be in PATH. \u001b[39m\u001b[38;5;132;01m%s\u001b[39;00m\u001b[38;5;124m\"\u001b[39m \u001b[38;5;241m%\u001b[39m (\n\u001b[0;32m     83\u001b[0m                 os\u001b[38;5;241m.\u001b[39mpath\u001b[38;5;241m.\u001b[39mbasename(\u001b[38;5;28mself\u001b[39m\u001b[38;5;241m.\u001b[39mpath), \u001b[38;5;28mself\u001b[39m\u001b[38;5;241m.\u001b[39mstart_error_message)\n\u001b[0;32m     84\u001b[0m         )\n\u001b[0;32m     85\u001b[0m     \u001b[38;5;28;01melif\u001b[39;00m err\u001b[38;5;241m.\u001b[39merrno \u001b[38;5;241m==\u001b[39m errno\u001b[38;5;241m.\u001b[39mEACCES:\n\u001b[0;32m     86\u001b[0m         \u001b[38;5;28;01mraise\u001b[39;00m WebDriverException(\n\u001b[0;32m     87\u001b[0m             \u001b[38;5;124m\"\u001b[39m\u001b[38;5;124m'\u001b[39m\u001b[38;5;132;01m%s\u001b[39;00m\u001b[38;5;124m'\u001b[39m\u001b[38;5;124m executable may have wrong permissions. \u001b[39m\u001b[38;5;132;01m%s\u001b[39;00m\u001b[38;5;124m\"\u001b[39m \u001b[38;5;241m%\u001b[39m (\n\u001b[0;32m     88\u001b[0m                 os\u001b[38;5;241m.\u001b[39mpath\u001b[38;5;241m.\u001b[39mbasename(\u001b[38;5;28mself\u001b[39m\u001b[38;5;241m.\u001b[39mpath), \u001b[38;5;28mself\u001b[39m\u001b[38;5;241m.\u001b[39mstart_error_message)\n\u001b[0;32m     89\u001b[0m         )\n",
      "\u001b[1;31mWebDriverException\u001b[0m: Message: 'chromedriver.exe' executable needs to be in PATH. Please see https://chromedriver.chromium.org/home\n"
     ]
    }
   ],
   "source": [
    "from selenium import webdriver\n",
    "import time\n",
    "\n",
    "# from selenium.webdriver.common.by import By\n",
    "# from selenium.webdriver.support.ui import WebDriverWait\n",
    "# from selenium.webdriver.support import expected_conditions as EC\n",
    "\n",
    "chrome_options = webdriver.ChromeOptions()\n",
    "chrome_options.add_experimental_option('useAutomationExtension', False)\n",
    "driver = webdriver.Chrome(executable_path=\"D:\\chromedriver\\chromedriver.exe\", options=chrome_options)\n",
    "\n",
    "# driver = webdriver.Chrome(executable_path=\"D:\\chromedriver\\chromedriver.exe\")\n",
    "\n",
    "driver.get(\"https://www.careeraddition.com/contact/\")\n",
    "\n",
    "driver.maximize_window()\n",
    "\n",
    "# <input type=\"text\" name=\"name\" placeholder=\"Your Name*\" required=\"\">\n",
    "name_input_box = driver.find_element_by_name(\"name\")\n",
    "name_input_box.send_keys(\"Hello1\")\n",
    "\n",
    "# <input type=\"email\" name=\"email\" placeholder=\"Email*\" required=\"\">\n",
    "email_input_box = driver.find_element_by_name(\"email\")\n",
    "email_input_box.send_keys(\"Hello1@gmail.com\")\n",
    "\n",
    "# <textarea name=\"message\" placeholder=\"Message*\"></textarea>\n",
    "message_input_box = driver.find_element_by_name(\"message\")\n",
    "message_input_box.send_keys(\"Hello1@gmail.com is testing ...\")\n",
    "\n",
    "# <button type=\"submit\" class=\"btn btn-primary btn-style mt-3\">Submit</button>\n",
    "# <button type=\"submit\" class=\"btn btn-primary btn-style mt-3\">Submit</button>\n",
    "submit_button = driver.find_element_by_tag_name(\"button\")\n",
    "# submit_button.click()\n",
    "\n",
    "# from selenium.webdriver.common.action_chains import ActionChains\n",
    "# driver.implicitly_wait(10)\n",
    "# ActionChains(driver).move_to_element(submit_button).click(submit_button).perform()\n",
    "\n",
    "# submit_button = WebDriverWait(driver, 10).until(\n",
    "#     EC.element_to_be_clickable((By.CSS_SELECTOR, 'button.btn'))\n",
    "# )\n",
    "# submit_button.click()\n",
    "\n",
    "driver.execute_script(\"arguments[0].scrollIntoView();\", submit_button)\n",
    "driver.execute_script(\"arguments[0].click();\", submit_button)\n",
    "\n",
    "time.sleep(10)\n",
    "\n",
    "print(\"Done\")\n",
    "\n",
    "# driver.quit()"
   ]
  },
  {
   "cell_type": "code",
   "execution_count": null,
   "id": "e77774ff",
   "metadata": {},
   "outputs": [],
   "source": [
    "from selenium import webdriver\n",
    "from selenium.webdriver.common.keys import Keys #need to send keystrokes\n",
    "import time\n",
    "\n",
    "driver = webdriver.Chrome(executable_path=\"D:\\chromedriver\\chromedriver.exe\")\n",
    "\n",
    "driver.get(\"https://www.careeraddition.com/contact/\")\n",
    "\n",
    "# <input type=\"text\" name=\"name\" placeholder=\"Your Name*\" required=\"\">\n",
    "name_input_box = driver.find_element_by_name(\"name\")\n",
    "name_input_box.send_keys(\"Hello1\")\n",
    "\n",
    "# <input type=\"email\" name=\"email\" placeholder=\"Email*\" required=\"\">\n",
    "email_input_box = driver.find_element_by_name(\"email\")\n",
    "email_input_box.send_keys(\"Hello1@gmail.com\")\n",
    "\n",
    "# <textarea name=\"message\" placeholder=\"Message*\"></textarea>\n",
    "message_input_box = driver.find_element_by_name(\"message\")\n",
    "message_input_box.send_keys(\"Hello1@gmail.com is testing ...\")\n",
    "\n",
    "# all working\n",
    "# <button type=\"submit\" class=\"btn btn-primary btn-style mt-3\">Submit</button>\n",
    "# submit_button = driver.find_element_by_css_selector(\".btn.btn-primary.btn-style.mt-3\")\n",
    "# submit_button = driver.find_element_by_css_selector(\"button.btn\")\n",
    "submit_button = driver.find_element_by_xpath('//*[@id=\"contact\"]/div/div/div/div/div[1]/div/form/button')\n",
    "# submit_button = driver.find_element_by_xpath('/html/body/section[2]/div/div/div/div/div[1]/div/form/button')\n",
    "# submit_button = driver.find_element_by_css_selector(\"button[type='submit']\")\n",
    "\n",
    "print(submit_button.text)\n",
    "\n",
    "submit_button.send_keys(\"\\n\") #send enter for links, buttons\n",
    "# or \n",
    "# submit_button.send_keys(Keys.SPACE) #for checkbox etc\n",
    "\n",
    "time.sleep(5)\n",
    "\n",
    "print(\"Done\")\n",
    "\n",
    "driver.quit()"
   ]
  },
  {
   "cell_type": "code",
   "execution_count": null,
   "id": "6dfa32e1",
   "metadata": {},
   "outputs": [],
   "source": []
  },
  {
   "cell_type": "code",
   "execution_count": null,
   "id": "24e8c116",
   "metadata": {},
   "outputs": [],
   "source": []
  },
  {
   "cell_type": "code",
   "execution_count": null,
   "id": "b2e4768e",
   "metadata": {},
   "outputs": [],
   "source": [
    "roo"
   ]
  },
  {
   "cell_type": "code",
   "execution_count": null,
   "id": "03602429",
   "metadata": {},
   "outputs": [],
   "source": []
  },
  {
   "cell_type": "code",
   "execution_count": null,
   "id": "bd12ac82",
   "metadata": {},
   "outputs": [],
   "source": []
  },
  {
   "cell_type": "code",
   "execution_count": null,
   "id": "57adc3b9",
   "metadata": {},
   "outputs": [],
   "source": []
  },
  {
   "cell_type": "code",
   "execution_count": null,
   "id": "dbb2b161",
   "metadata": {},
   "outputs": [],
   "source": []
  },
  {
   "cell_type": "code",
   "execution_count": null,
   "id": "f0a05683",
   "metadata": {},
   "outputs": [],
   "source": []
  }
 ],
 "metadata": {
  "kernelspec": {
   "display_name": "Python 3 (ipykernel)",
   "language": "python",
   "name": "python3"
  },
  "language_info": {
   "codemirror_mode": {
    "name": "ipython",
    "version": 3
   },
   "file_extension": ".py",
   "mimetype": "text/x-python",
   "name": "python",
   "nbconvert_exporter": "python",
   "pygments_lexer": "ipython3",
   "version": "3.8.10"
  }
 },
 "nbformat": 4,
 "nbformat_minor": 5
}
