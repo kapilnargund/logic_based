{
 "cells": [
  {
   "cell_type": "code",
   "execution_count": null,
   "id": "linear-thanksgiving",
   "metadata": {},
   "outputs": [],
   "source": [
    "import pandas as pd\n",
    "import numpy as np\n",
    "import glob,re"
   ]
  },
  {
   "cell_type": "code",
   "execution_count": null,
   "id": "appointed-maple",
   "metadata": {
    "scrolled": true
   },
   "outputs": [],
   "source": [
    "# concating 2 df's\n",
    "\n",
    "l1 = ['kapil',2,\"3,4\"]\n",
    "l2 = ['kiran',5,39]\n",
    "df = pd.DataFrame(data = (l1,l2),columns = ['name','roll','marks'])\n",
    "\n",
    "k1 = ['manish',8,54]\n",
    "k2 = ['nilesh',12,62]\n",
    "df1 = pd.DataFrame(data = (k1,k2),columns = ['name','roll','marks'])\n",
    "\n",
    "df3 = pd.concat([df,df1], ignore_index = True)\n",
    "display(df3)\n",
    "\n",
    "# df_sort = df_concat.sort_values(by = 'marks', ascending = False)\n",
    "# display(df_sort)"
   ]
  },
  {
   "cell_type": "code",
   "execution_count": null,
   "id": "british-fellow",
   "metadata": {},
   "outputs": [],
   "source": [
    "for i in df3['marks']:\n",
    "    print(type(i))\n",
    "    \n",
    "df3['marks'] = [str(i).split(',') for i in df3['marks']]\n",
    "df3['marks'] = [int(''.join(i)) for i in df3['marks']]\n",
    "display(df3)\n",
    "df3.info()"
   ]
  },
  {
   "cell_type": "code",
   "execution_count": null,
   "id": "rotary-school",
   "metadata": {},
   "outputs": [],
   "source": [
    "splitted = []\n",
    "data = ['2','1,565','543','2,322','3,756','6,454']\n",
    "\n",
    "# for i in data:\n",
    "#     splitted = i.split(',')\n",
    "#     print(splitted)\n",
    "\n",
    "    \n",
    "# for j in splitted:\n",
    "#     joined = int(''.join(j))\n",
    "#     print(joined)\n",
    "\n",
    "\n",
    "\n",
    "splited_list = [i.split(',') for i in data]\n",
    "print(\"splited_list : \",splited_list)\n",
    "\n",
    "converted_list = [int(''.join(i)) for i in splited_list]\n",
    "\n",
    "converted_list"
   ]
  },
  {
   "cell_type": "code",
   "execution_count": null,
   "id": "9957f6d7",
   "metadata": {},
   "outputs": [],
   "source": []
  },
  {
   "cell_type": "code",
   "execution_count": null,
   "id": "comprehensive-challenge",
   "metadata": {},
   "outputs": [],
   "source": [
    "# read all files from a folder and concat them\n",
    "\n",
    "df = pd.DataFrame(columns = ['site_name', 'site_title', 'alexa_rank', 'views'])\n",
    "\n",
    "for file in glob.glob(r'D:\\shopify\\site_list\\edited\\with_vol\\*.csv'):\n",
    "    df1 = pd.read_csv(file, encoding = 'utf8')\n",
    "    df = pd.concat([df,df1])\n",
    "    \n",
    "df['views'] = [str(i).split(',') for i in df['views']]\n",
    "df['views'] = [int(''.join(i)) for i in df['views']]\n",
    "\n",
    "df['alexa_rank'] = df.apply(lambda x: int(x['alexa_rank'].replace(',', '')),axis=1)\n",
    "\n",
    "df.info()\n",
    "    \n",
    "df.to_csv(r'D:\\shopify\\site_list\\edited\\with_vol\\concatinated\\sites_with_vol.csv', index = False)"
   ]
  },
  {
   "cell_type": "code",
   "execution_count": null,
   "id": "exterior-seeking",
   "metadata": {},
   "outputs": [],
   "source": [
    "df = pd.read_csv(r'D:\\shopify\\site_list\\edited\\with_vol\\concatinated\\sites_with_vol.csv')\n",
    "# df_sorted = df.sort_values(by = 'views', ascending = False)\n",
    "df_sorted = df.sort_values(by = 'alexa_rank', ascending = True)\n",
    "df_sorted.to_csv(r'D:\\shopify\\site_list\\edited\\with_vol\\concatinated\\sorted\\sorted.csv', index = False)\n",
    "df_sorted"
   ]
  },
  {
   "cell_type": "code",
   "execution_count": null,
   "id": "talented-insulation",
   "metadata": {},
   "outputs": [],
   "source": [
    "# converting tab delimited text file to csv file\n",
    "\n",
    "df = pd.read_csv(\"D:\\email\\emails.txt\",delimiter=\"\\t\")\n",
    "new_header = ['Category','Message']\n",
    "df.to_csv(\"D:\\email\\mutual_funds_emails.csv\", header = new_header, encoding='utf-8', index=False)"
   ]
  },
  {
   "cell_type": "code",
   "execution_count": null,
   "id": "pacific-diabetes",
   "metadata": {},
   "outputs": [],
   "source": []
  },
  {
   "cell_type": "code",
   "execution_count": null,
   "id": "associate-scene",
   "metadata": {},
   "outputs": [],
   "source": [
    "import matplotlib\n",
    "import matplotlib.pyplot as plt\n",
    "from datetime import datetime\n",
    "  \n",
    "origin = ['2020-02-05 17:17:55', '2020-02-05 17:17:51', '2020-02-05 17:17:49']\n",
    "\n",
    "# date = []\n",
    "# for d in origin:\n",
    "#     a = datetime.strptime(d, '%Y-%m-%d %H:%M:%S')\n",
    "#     date.append(a)\n",
    "# print(date)\n",
    "\n",
    "# above commented code done by single line using list comprehension\n",
    "a = [datetime.strptime(d, '%Y-%m-%d %H:%M:%S') for d in origin]\n",
    "\n",
    "a"
   ]
  },
  {
   "cell_type": "code",
   "execution_count": null,
   "id": "solid-legislature",
   "metadata": {},
   "outputs": [],
   "source": [
    "# loop through range of float values\n",
    "import decimal\n",
    "\n",
    "def drange(x, y, jump):\n",
    "  while x < y:\n",
    "    yield float(x)\n",
    "    x += decimal.Decimal(jump)\n",
    "  \n",
    "a = []\n",
    "for i in drange(0, 10, '0.01'):\n",
    "    a.append(i)\n",
    "print(a[0:21]) # not printing the whole list\n",
    "\n",
    "# check if the value is present in your list\n",
    "b = [0.34,2,1.24,11.63]\n",
    "\n",
    "for i in range(len(b)):\n",
    "    if b[i] in drange(0, 10, '0.01'):\n",
    "        print('condition satisfied for :', b[i])\n",
    "    else:\n",
    "        print('not satisfied for : ', b[i])"
   ]
  },
  {
   "cell_type": "code",
   "execution_count": null,
   "id": "august-sustainability",
   "metadata": {},
   "outputs": [],
   "source": []
  },
  {
   "cell_type": "code",
   "execution_count": null,
   "id": "accessory-license",
   "metadata": {},
   "outputs": [],
   "source": [
    "# dynamic variability\n",
    "\n",
    "a = float(input('enter num1 '))\n",
    "b = float(input('enter num2 '))\n",
    "c = float(input('enter num3 '))\n",
    "y = (a + b)/c\n",
    "\n",
    "# python identifies complex numbers\n",
    "z = y + (2 + 5j)\n",
    "print(type(z))\n",
    "\n",
    "# super type casting i.e python can add or concat two same types variable\n",
    "v = str(z) + 'kapil'\n",
    "v"
   ]
  },
  {
   "cell_type": "code",
   "execution_count": null,
   "id": "renewable-birmingham",
   "metadata": {},
   "outputs": [],
   "source": []
  },
  {
   "cell_type": "code",
   "execution_count": null,
   "id": "angry-mount",
   "metadata": {},
   "outputs": [],
   "source": [
    "# linear reggression\n",
    "\n",
    "import numpy as np\n",
    "import matplotlib.pyplot as plt\n",
    "\n",
    "# Define the known points\n",
    "x = [85, 100]\n",
    "y = [86.321, 88.277]\n",
    "\n",
    "# Calculate the coefficients. This line answers the initial question. \n",
    "coefficients = np.polyfit(x, y, 1)\n",
    "\n",
    "# Print the findings\n",
    "# print 'a =', coefficients[0]\n",
    "# print 'b =', coefficients[1]\n",
    "\n",
    "# Let's compute the values of the line...\n",
    "polynomial = np.poly1d(coefficients)\n",
    "x_axis = np.linspace(0,500,100)\n",
    "y_axis = polynomial(x_axis)\n",
    "\n",
    "# ...and plot the points and the line\n",
    "plt.plot(x_axis, y_axis)\n",
    "plt.plot( x[0], y[0], 'go' )\n",
    "plt.plot( x[1], y[1], 'go' )\n",
    "plt.grid('on')\n",
    "plt.show()"
   ]
  },
  {
   "cell_type": "code",
   "execution_count": null,
   "id": "stopped-friendly",
   "metadata": {},
   "outputs": [],
   "source": []
  },
  {
   "cell_type": "code",
   "execution_count": null,
   "id": "regulation-situation",
   "metadata": {},
   "outputs": [],
   "source": [
    "# function to concat elements of lists, tuples, dicts into one single li\n",
    "\n",
    "def concat_li(*args):\n",
    "    li1 = []\n",
    "    # print(args)\n",
    "    for i in args:\n",
    "        if type(i) == list:\n",
    "            li1.extend(i)\n",
    "        else:\n",
    "            i = list(i)\n",
    "            li1.extend(i)\n",
    "        # print(i)\n",
    "        # li1.extend(i)\n",
    "        # li1 = li1 + i\n",
    "    return li1\n",
    "\n",
    "# ab = concat_li([1,2,3],[4,5,6],[7,8,9])\n",
    "ab = concat_li([1,2,3],[4,5,6],('hello', 'world'), {'a':1, 'b':2}, {6,5,6})\n",
    "print(ab)"
   ]
  },
  {
   "cell_type": "code",
   "execution_count": null,
   "id": "charitable-corpus",
   "metadata": {},
   "outputs": [],
   "source": []
  },
  {
   "cell_type": "code",
   "execution_count": null,
   "id": "constant-soldier",
   "metadata": {},
   "outputs": [],
   "source": [
    "# Write a fun which will take input as a dict and give me output as a list of all the values \n",
    "# even in case of 2 level nesting it should work .\n",
    "\n",
    "def dict_vals_li(input_dict):\n",
    "    l1 = []\n",
    "\n",
    "    dict1 = input_dict\n",
    "    for i in dict1.values():\n",
    "        if type(i) == dict:\n",
    "            for k in i.values():\n",
    "                l1.append(k)\n",
    "        else:\n",
    "            l1.append(i)\n",
    "\n",
    "    return l1\n",
    "\n",
    "op_li = dict_vals_li({'a':1,'b':2,'c':3, 'nest':{'p':23}})\n",
    "\n",
    "op_li"
   ]
  },
  {
   "cell_type": "code",
   "execution_count": null,
   "id": "willing-moral",
   "metadata": {},
   "outputs": [],
   "source": []
  },
  {
   "cell_type": "code",
   "execution_count": 174,
   "id": "champion-water",
   "metadata": {},
   "outputs": [
    {
     "data": {
      "text/plain": [
       "{'platform': 'Windows',\n",
       " 'platform-release': '10',\n",
       " 'platform-version': '10.0.22000',\n",
       " 'architecture': 'AMD64',\n",
       " 'hostname': 'DESKTOP-F726TKR',\n",
       " 'ip-address': '192.168.68.103',\n",
       " 'mac-address': '44:8a:5b:b6:3f:dd',\n",
       " 'processor': 'Intel64 Family 6 Model 60 Stepping 3, GenuineIntel',\n",
       " 'ram': '8 GB'}"
      ]
     },
     "execution_count": 174,
     "metadata": {},
     "output_type": "execute_result"
    }
   ],
   "source": [
    "import platform,socket,re,uuid,json,psutil,logging\n",
    "\n",
    "def getSystemInfo():\n",
    "    '''\n",
    "        This function returns a json which contains system config information\n",
    "        getSystemInfo()\n",
    "\n",
    "        Output:\n",
    "        -- returns a json which contains system config information\n",
    "    '''\n",
    "    try:\n",
    "        info={}\n",
    "        info['platform']=platform.system()\n",
    "        info['platform-release']=platform.release()\n",
    "        info['platform-version']=platform.version()\n",
    "        info['architecture']=platform.machine()\n",
    "        info['hostname']=socket.gethostname()\n",
    "        info['ip-address']=socket.gethostbyname(socket.gethostname())\n",
    "        info['mac-address']=':'.join(re.findall('..', '%012x' % uuid.getnode()))\n",
    "        info['processor']=platform.processor()\n",
    "        info['ram']=str(round(psutil.virtual_memory().total / (1024.0 **3)))+\" GB\"\n",
    "        return json.dumps(info)\n",
    "    except Exception as e:\n",
    "        logging.exception(e)\n",
    "\n",
    "json.loads(getSystemInfo())"
   ]
  },
  {
   "cell_type": "code",
   "execution_count": null,
   "id": "current-pilot",
   "metadata": {},
   "outputs": [],
   "source": []
  },
  {
   "cell_type": "code",
   "execution_count": null,
   "id": "f3df877c",
   "metadata": {},
   "outputs": [],
   "source": [
    "%%time\n",
    "# write a function to get missing values from li1\n",
    "\n",
    "\n",
    "import time\n",
    "import numpy as np\n",
    "\n",
    "# li1 = [10,2,22,2,4,4,7,5,1,0,11,9,6,12]\n",
    "li1=list(np.random.randint(1,1000,500))\n",
    "li2 = []\n",
    "\n",
    "# def miss_vals(li1):\n",
    "#     li1.sort()\n",
    "#     for i in range(li1[0],li1[-1]+1):\n",
    "#         if i not in li1:\n",
    "#             li2.append(i)\n",
    "#     return li2\n",
    "\n",
    "def miss_vals(li1):\n",
    "    li1.sort()\n",
    "    li1 = list(set(li1))\n",
    "    li2 = [i for i in range(li1[-1]+1) if i not in li1]\n",
    "    return li2\n",
    "\n",
    "print('li1 : \\n',sorted(li1))\n",
    "print('missing values : \\n',miss_vals(li1))"
   ]
  },
  {
   "cell_type": "code",
   "execution_count": null,
   "id": "e899f9e1",
   "metadata": {},
   "outputs": [],
   "source": []
  },
  {
   "cell_type": "code",
   "execution_count": null,
   "id": "8de7765f",
   "metadata": {
    "scrolled": false
   },
   "outputs": [],
   "source": [
    "# removing values from df which are less than threshold\n",
    "\n",
    "import pandas as pd\n",
    "import numpy as np\n",
    "\n",
    "df = pd.DataFrame(np.random.randint(1,100,500), columns = ['tp'])\n",
    "\n",
    "print('df before removing values less than threshold')\n",
    "display(df)\n",
    "\n",
    "a = df['tp'].value_counts()\n",
    "\n",
    "for k,v in zip(a.index, a.values):\n",
    "    if v < 5:\n",
    "        df = df.drop(df[df['tp']==k].index)\n",
    "\n",
    "df.reset_index(drop=True, inplace=True)    \n",
    "print('df after removing values less than threshold')\n",
    "display(df)"
   ]
  },
  {
   "cell_type": "code",
   "execution_count": null,
   "id": "75075f3f",
   "metadata": {},
   "outputs": [],
   "source": []
  },
  {
   "cell_type": "code",
   "execution_count": null,
   "id": "031bd5d9",
   "metadata": {},
   "outputs": [],
   "source": []
  },
  {
   "cell_type": "code",
   "execution_count": null,
   "id": "84a0ad78",
   "metadata": {},
   "outputs": [],
   "source": [
    "Two sum problem\n",
    "input :\n",
    "n = [3, 4, 7, 6 , 1]\n",
    "t = 5\n",
    "output :\n",
    "[4,1]"
   ]
  },
  {
   "cell_type": "code",
   "execution_count": null,
   "id": "6331a499",
   "metadata": {
    "scrolled": true
   },
   "outputs": [],
   "source": [
    "import numpy as np\n",
    "\n",
    "list(np.random.randint(1,10,100))"
   ]
  },
  {
   "cell_type": "code",
   "execution_count": null,
   "id": "97bd1724",
   "metadata": {},
   "outputs": [],
   "source": [
    "%%time\n",
    "\n",
    "# n = list(np.random.randint(1,10,1000))\n",
    "n = [3, 4, 7, 6 , 1]\n",
    "t = 13\n",
    "\n",
    "# for i in range(len(n)):\n",
    "#     for j in range(i,len(n)):\n",
    "#         if n[i]+n[j] == t:\n",
    "#             print(n[i],n[j])\n",
    "                \n",
    "    \n",
    "def two_sum(n,t):\n",
    "    return [[n[i],n[j]] for i in range(len(n)) for j in range(i,len(n)) if n[i]+n[j] == t ]\n",
    "    \n",
    "two_sum(n,t)"
   ]
  },
  {
   "cell_type": "code",
   "execution_count": null,
   "id": "2446c598",
   "metadata": {},
   "outputs": [],
   "source": [
    "Group Anagrams\n",
    "words = [\"tea\", \"eat\", \"bat\", \"ate\", \"arc\", \"car\"]\n",
    "output:\n",
    "[['tea', 'eat', 'ate'], ['bat'], ['arc', 'car']]"
   ]
  },
  {
   "cell_type": "code",
   "execution_count": 23,
   "id": "22a653bc",
   "metadata": {},
   "outputs": [
    {
     "name": "stdout",
     "output_type": "stream",
     "text": [
      "[['tea', 'eat', 'ate'], ['bat'], ['arc', 'car']]\n"
     ]
    }
   ],
   "source": [
    "words = [\"tea\", \"eat\", \"bat\", \"ate\", \"arc\", \"car\"]\n",
    "output, match_val = [], []\n",
    "for i in range(len(words)):\n",
    "    \n",
    "    \n",
    "    sub_list = []\n",
    "    for j in range(i,len(words)):\n",
    "        if words[j] not in match_val:\n",
    "            \n",
    "            \n",
    "            co = 0\n",
    "            for w in words[i]:\n",
    "                if w in words[j]:\n",
    "                    co += 1\n",
    "                    \n",
    "                    \n",
    "            if co == len(words[i]):\n",
    "                sub_list.append(words[j])\n",
    "                match_val.append(words[j])\n",
    "                \n",
    "                \n",
    "                \n",
    "    if len(sub_list) != 0:\n",
    "        output.append(sub_list)\n",
    "print(output)"
   ]
  },
  {
   "cell_type": "code",
   "execution_count": null,
   "id": "cf8328f6",
   "metadata": {},
   "outputs": [],
   "source": []
  },
  {
   "cell_type": "code",
   "execution_count": null,
   "id": "7bb97e7b",
   "metadata": {},
   "outputs": [],
   "source": []
  },
  {
   "cell_type": "code",
   "execution_count": null,
   "id": "8c5405e1",
   "metadata": {},
   "outputs": [],
   "source": [
    "Regular Expression\n",
    "\n",
    "www.example.com.au/product/125123\n",
    "www.example.com.au/product/125553\n",
    "www.example.com.au/product/965113\n",
    "www.example.com.au/product/666125\n",
    "www.example.com.au/product/778834\n",
    "Build a regular expression to capture the id from these links (125123, 125553 ..)"
   ]
  },
  {
   "cell_type": "code",
   "execution_count": 95,
   "id": "f2aab9bb",
   "metadata": {},
   "outputs": [
    {
     "name": "stdout",
     "output_type": "stream",
     "text": [
      "(125123, 125553, 965113, 666125, 778834)\n"
     ]
    }
   ],
   "source": [
    "import re\n",
    "\n",
    "s1 = []\n",
    "\n",
    "id1 = [\"www.example.com.au/product/125123\",'www.example.com.au/product/125553','www.example.com.au/product/965113',\n",
    "      'www.example.com.au/product/666125','www.example.com.au/product/778834']\n",
    "\n",
    "for i in id1:\n",
    "    s1.append(int(re.sub(r'\\D',\"\",i)))\n",
    "#     s1.append(int(re.search(r'\\d*.$',i).group()))\n",
    "\n",
    "print(tuple(s1))"
   ]
  },
  {
   "cell_type": "code",
   "execution_count": null,
   "id": "810b76f4",
   "metadata": {},
   "outputs": [],
   "source": []
  },
  {
   "cell_type": "code",
   "execution_count": null,
   "id": "c3d281f0",
   "metadata": {},
   "outputs": [],
   "source": [
    "Write a function to increase the image size(width, height) to (400, 700)  by modifying the parameters in the urls.\n",
    "Input:\n",
    " [\n",
    "‘https://example.com.au/image1.png?width=200&height=300’,\n",
    "‘https://example.com.au/image2.png?width=2000&height=200’,\n",
    "‘https://example.com.au/image3.png?width=20&height=500’,\n",
    "‘https://example.com.au/image4.png?width=4000&height=9000’,\n",
    "‘https://example.com.au/image5.png?width=200&height=300’,\n",
    "‘https://example.com.au/image600.png?width=200&height=300’,\n",
    "]\n",
    "\n",
    "Output:\n",
    "[\n",
    "‘https://example.com.au/image1.png?width=400&height=700’,\n",
    "‘https://example.com.au/image2.png?width=400&height=700’,\n",
    "‘https://example.com.au/image3.png?width=400&height=700’,\n",
    "‘https://example.com.au/image4.png?width=400&height=700’,\n",
    "‘https://example.com.au/image5.png?width=400&height=700’,\n",
    "‘https://example.com.au/image600.png?width=400&height=700’,\n",
    "]"
   ]
  },
  {
   "cell_type": "code",
   "execution_count": 109,
   "id": "79efc192",
   "metadata": {},
   "outputs": [
    {
     "name": "stdout",
     "output_type": "stream",
     "text": [
      "https://example.com.au/image1.png?width=400&height=700\n",
      "https://example.com.au/image2.png?width=400&height=700\n",
      "https://example.com.au/image3.png?width=400&height=700\n",
      "https://example.com.au/image4.png?width=400&height=700\n",
      "https://example.com.au/image5.png?width=400&height=700\n",
      "https://example.com.au/image600.png?width=400&height=700\n"
     ]
    },
    {
     "data": {
      "text/plain": [
       "['https://example.com.au/image1.png?width=400&height=700',\n",
       " 'https://example.com.au/image2.png?width=400&height=700',\n",
       " 'https://example.com.au/image3.png?width=400&height=700',\n",
       " 'https://example.com.au/image4.png?width=400&height=700',\n",
       " 'https://example.com.au/image5.png?width=400&height=700',\n",
       " 'https://example.com.au/image600.png?width=400&height=700']"
      ]
     },
     "execution_count": 109,
     "metadata": {},
     "output_type": "execute_result"
    }
   ],
   "source": [
    "image_li = [\n",
    "'https://example.com.au/image1.png?width=200&height=300',\n",
    "'https://example.com.au/image2.png?width=2000&height=200',\n",
    "'https://example.com.au/image3.png?width=20&height=500',\n",
    "'https://example.com.au/image4.png?width=4000&height=9000',\n",
    "'https://example.com.au/image5.png?width=200&height=300',\n",
    "'https://example.com.au/image600.png?width=200&height=300',\n",
    "]\n",
    "\n",
    "new_li = []\n",
    "\n",
    "for i in image_li:\n",
    "    new_li.append(i.split('?')[0]+'?width=400&height=700')\n",
    "    \n",
    "new_li"
   ]
  },
  {
   "cell_type": "code",
   "execution_count": null,
   "id": "4211115d",
   "metadata": {},
   "outputs": [],
   "source": []
  },
  {
   "cell_type": "code",
   "execution_count": 155,
   "id": "90a505a8",
   "metadata": {},
   "outputs": [
    {
     "name": "stdout",
     "output_type": "stream",
     "text": [
      "https://example.com.au/image1.png?width=300&height=500\n",
      "https://example.com.au/image2.png?width=2100&height=400\n",
      "https://example.com.au/image3.png?width=120&height=700\n",
      "https://example.com.au/image4.png?width=4100&height=9200\n",
      "https://example.com.au/image5.png?width=300&height=500\n",
      "https://example.com.au/image600.png?width=300&height=500\n"
     ]
    }
   ],
   "source": [
    "image_li = [\n",
    "'https://example.com.au/image1.png?width=200&height=300',\n",
    "'https://example.com.au/image2.png?width=2000&height=200',\n",
    "'https://example.com.au/image3.png?width=20&height=500',\n",
    "'https://example.com.au/image4.png?width=4000&height=9000',\n",
    "'https://example.com.au/image5.png?width=200&height=300',\n",
    "'https://example.com.au/image600.png?width=200&height=300',\n",
    "]\n",
    "\n",
    "for link in image_li:\n",
    "    print(link.split('width=')[0]+'width='+str(int(link.split('=')[-2].split('&')[0])+100).split('height=')[0]+'&height='+str(int(link.split('=')[-1])+200))"
   ]
  },
  {
   "cell_type": "code",
   "execution_count": 171,
   "id": "20314cb7",
   "metadata": {},
   "outputs": [
    {
     "name": "stdout",
     "output_type": "stream",
     "text": [
      "https://example.com.au/image1.png?width=300&height=500&index=12\n",
      "https://example.com.au/image2.png?width=2100&height=400\n",
      "https://example.com.au/image3.png?width=120&height=700&index=133\n",
      "https://example.com.au/image4.png?width=4100&height=9200&index=120\n",
      "https://example.com.au/image5.png?width=300&height=500&index=1\n",
      "https://example.com.au/image600.png?width=300&height=500\n"
     ]
    }
   ],
   "source": [
    "# added 'index' in link to make it complicated using split on '&' \n",
    "\n",
    "image_li = [\n",
    "'https://example.com.au/image1.png?width=200&height=300&index=12',\n",
    "'https://example.com.au/image2.png?width=2000&height=200',\n",
    "'https://example.com.au/image3.png?width=20&height=500&index=133',\n",
    "'https://example.com.au/image4.png?width=4000&height=9000&index=120',\n",
    "'https://example.com.au/image5.png?width=200&height=300&index=1',\n",
    "'https://example.com.au/image600.png?width=200&height=300',\n",
    "]\n",
    "\n",
    "\n",
    "for link in image_li:\n",
    "    if 'index' in link:\n",
    "        extra = link.split('&index')[1]\n",
    "        link = link.split('&index')[0]\n",
    "        print(link.split('width=')[0]+'width='+str(int(link.split('=')[-2].split('&')[0])+100).split('height=')[0]+'&height='+str(int(link.split('=')[-1])+200)+'&index'+extra)\n",
    "    else:\n",
    "        print(link.split('width=')[0]+'width='+str(int(link.split('=')[-2].split('&')[0])+100).split('height=')[0]+'&height='+str(int(link.split('=')[-1])+200))"
   ]
  },
  {
   "cell_type": "code",
   "execution_count": null,
   "id": "6abed6db",
   "metadata": {},
   "outputs": [],
   "source": []
  },
  {
   "cell_type": "code",
   "execution_count": 186,
   "id": "27043c4a",
   "metadata": {},
   "outputs": [
    {
     "name": "stdout",
     "output_type": "stream",
     "text": [
      "Enter equation to solve : 5+2*9/2\n"
     ]
    }
   ],
   "source": [
    "eqn = eval(input('Enter equation to solve : '))"
   ]
  },
  {
   "cell_type": "code",
   "execution_count": 187,
   "id": "8d74a830",
   "metadata": {},
   "outputs": [
    {
     "data": {
      "text/plain": [
       "14.0"
      ]
     },
     "execution_count": 187,
     "metadata": {},
     "output_type": "execute_result"
    }
   ],
   "source": [
    "eqn"
   ]
  },
  {
   "cell_type": "code",
   "execution_count": null,
   "id": "bad8fd33",
   "metadata": {},
   "outputs": [],
   "source": []
  },
  {
   "cell_type": "markdown",
   "id": "fb7af537",
   "metadata": {},
   "source": [
    "1\n",
    "22\n",
    "333\n",
    "4444\n",
    "55555\n",
    "\n",
    "Can you do it using only arithmetic operations, a single for loop and print statement?\n",
    "\n",
    "Use no more than two lines. The first line (the for statement) is already written for you. You have to complete the print statement.\n",
    "\n",
    "Note: Using anything related to strings will give a score of ."
   ]
  },
  {
   "cell_type": "code",
   "execution_count": 188,
   "id": "68622bc1",
   "metadata": {},
   "outputs": [
    {
     "name": "stdout",
     "output_type": "stream",
     "text": [
      "5\n",
      "1\n",
      "22\n",
      "333\n",
      "4444\n"
     ]
    }
   ],
   "source": [
    "for i in range(1,int(input())):\n",
    "    print([0, 1, 22, 333, 4444, 55555, 666666, 7777777, 88888888, 999999999][i]) # funny solution\n",
    "#     print(10**i//9*i) # actual solution\n",
    "#     print(str(i)*i) # illegal solution"
   ]
  },
  {
   "cell_type": "code",
   "execution_count": null,
   "id": "7bdb5da4",
   "metadata": {},
   "outputs": [],
   "source": []
  },
  {
   "cell_type": "code",
   "execution_count": null,
   "id": "d8ff4bd1",
   "metadata": {},
   "outputs": [],
   "source": []
  }
 ],
 "metadata": {
  "kernelspec": {
   "display_name": "Python 3 (ipykernel)",
   "language": "python",
   "name": "python3"
  },
  "language_info": {
   "codemirror_mode": {
    "name": "ipython",
    "version": 3
   },
   "file_extension": ".py",
   "mimetype": "text/x-python",
   "name": "python",
   "nbconvert_exporter": "python",
   "pygments_lexer": "ipython3",
   "version": "3.8.10"
  }
 },
 "nbformat": 4,
 "nbformat_minor": 5
}
